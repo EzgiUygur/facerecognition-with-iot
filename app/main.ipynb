{
 "cells": [
  {
   "cell_type": "code",
   "execution_count": 1,
   "id": "0880af68",
   "metadata": {},
   "outputs": [
    {
     "ename": "IndentationError",
     "evalue": "unexpected unindent (Temp/ipykernel_7700/250570161.py, line 25)",
     "output_type": "error",
     "traceback": [
      "\u001b[1;36m  File \u001b[1;32m\"C:\\Users\\ezgiu\\AppData\\Local\\Temp/ipykernel_7700/250570161.py\"\u001b[1;36m, line \u001b[1;32m25\u001b[0m\n\u001b[1;33m    def runSlot(self):\u001b[0m\n\u001b[1;37m    ^\u001b[0m\n\u001b[1;31mIndentationError\u001b[0m\u001b[1;31m:\u001b[0m unexpected unindent\n"
     ]
    }
   ],
   "source": [
    "import sys\n",
    "from PyQt5.uic import loadUi\n",
    "from PyQt5 import QtWidgets\n",
    "from PyQt5.QtCore import pyqtSlot\n",
    "from PyQt5.QtWidgets import QApplication, QDialog\n",
    "import resource\n",
    "from out_window import Ui_OutputDialog\n",
    "\n",
    "\n",
    "class Ui_Dialog(QDialog):\n",
    "    def __init__(self):\n",
    "        super(Ui_Dialog, self).__init__()\n",
    "        loadUi(\"mainwindow.ui\", self)\n",
    "\n",
    "        self.runButton.clicked.connect(self.runSlot)\n",
    "\n",
    "        self._new_window = None\n",
    "        self.Videocapture_ = None\n",
    "\n",
    "    def refreshAll(self):\n",
    "    \n",
    "        self.Videocapture_ = \"0\"\n",
    "\n",
    "        @pyqtSlot()\n",
    "    def runSlot(self):\n",
    "    \n",
    "        print(\"Clicked Run\")\n",
    "        self.refreshAll()\n",
    "        print(self.Videocapture_)\n",
    "        ui.hide()  \n",
    "        self.outputWindow_() \n",
    "\n",
    "    def outputWindow_(self):\n",
    "\n",
    "        self._new_window = Ui_OutputDialog()\n",
    "        self._new_window.show()\n",
    "        self._new_window.startVideo(self.Videocapture_)\n",
    "        print(\"Webcam started\")\n",
    "\n",
    "\n",
    "if __name__ == \"__main__\":\n",
    "    app = QApplication(sys.argv)\n",
    "    ui = Ui_Dialog()\n",
    "    ui.show()\n",
    "    sys.exit(app.exec_())\n"
   ]
  },
  {
   "cell_type": "code",
   "execution_count": null,
   "id": "162035ce",
   "metadata": {},
   "outputs": [],
   "source": []
  }
 ],
 "metadata": {
  "kernelspec": {
   "display_name": "Python 3 (ipykernel)",
   "language": "python",
   "name": "python3"
  },
  "language_info": {
   "codemirror_mode": {
    "name": "ipython",
    "version": 3
   },
   "file_extension": ".py",
   "mimetype": "text/x-python",
   "name": "python",
   "nbconvert_exporter": "python",
   "pygments_lexer": "ipython3",
   "version": "3.9.7"
  }
 },
 "nbformat": 4,
 "nbformat_minor": 5
}
